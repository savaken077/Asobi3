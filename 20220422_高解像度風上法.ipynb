{
  "nbformat": 4,
  "nbformat_minor": 0,
  "metadata": {
    "colab": {
      "name": "20220422_高解像度風上法.ipynb",
      "provenance": [],
      "collapsed_sections": [],
      "include_colab_link": true
    },
    "kernelspec": {
      "name": "python3",
      "display_name": "Python 3"
    },
    "language_info": {
      "name": "python"
    }
  },
  "cells": [
    {
      "cell_type": "markdown",
      "metadata": {
        "id": "view-in-github",
        "colab_type": "text"
      },
      "source": [
        "<a href=\"https://colab.research.google.com/github/savaken077/Asobi3/blob/main/20220422_%E9%AB%98%E8%A7%A3%E5%83%8F%E5%BA%A6%E9%A2%A8%E4%B8%8A%E6%B3%95.ipynb\" target=\"_parent\"><img src=\"https://colab.research.google.com/assets/colab-badge.svg\" alt=\"Open In Colab\"/></a>"
      ]
    },
    {
      "cell_type": "code",
      "source": [
        "import numpy as np\n",
        "import matplotlib.pyplot as plt\n",
        "%matplotlib inline"
      ],
      "metadata": {
        "id": "zFkDO8tSI5lK"
      },
      "execution_count": 4,
      "outputs": []
    },
    {
      "cell_type": "code",
      "source": [
        "jmax = 101\n",
        "dt = 0.02"
      ],
      "metadata": {
        "id": "DDFzCwJiJ0Gy"
      },
      "execution_count": 5,
      "outputs": []
    },
    {
      "cell_type": "code",
      "source": [
        "gamma = 1.4"
      ],
      "metadata": {
        "id": "g6iShyxAKYb6"
      },
      "execution_count": 6,
      "outputs": []
    },
    {
      "cell_type": "code",
      "source": [
        "PI  = 1.0\n",
        "RHOI = 1.0\n",
        "UI = 0.0\n",
        "\n",
        "PE = 0.1\n",
        "RHOE = 0.1\n",
        "UE = 0.0"
      ],
      "metadata": {
        "id": "xqSwBoZfKcqr"
      },
      "execution_count": 7,
      "outputs": []
    },
    {
      "cell_type": "code",
      "source": [
        "xmin, xmid, xmax = 0.0, 0.5, 1.0\n",
        "x = np.linspace(xmin, xmax, jmax)\n",
        "dx = (xmax - xmin) / (jmax - 1)\n",
        "dtdx = dt / dx"
      ],
      "metadata": {
        "id": "2VLtZyl-Ktvu"
      },
      "execution_count": 8,
      "outputs": []
    },
    {
      "cell_type": "markdown",
      "source": [
        "Roeスキームによる計算"
      ],
      "metadata": {
        "id": "qckeOeHdLJGO"
      }
    },
    {
      "cell_type": "code",
      "source": [
        "def init():\n",
        "  Q = np.zeros([jmax, 3])\n",
        "  Q[x <= xmid, 0] = RHOI\n",
        "  Q[x <= xmid, 1] = RHOI = UI\n",
        "  Q[x <= xmid, 2] = (PI/ (gamma -1.0) + 0.5 * RHOI *UI **2)\n",
        "\n",
        "  Q[x > xmid, 0] = RHOE\n",
        "  Q[x > xmid, 1] = RHOE * UE\n",
        "  Q[x > xmid, 2] = (PE / (gamma - 1.0) + 0.5 * PHOE * UE **2)\n",
        "\n",
        "  return Q"
      ],
      "metadata": {
        "id": "YK2M9G8ELPBF"
      },
      "execution_count": 9,
      "outputs": []
    },
    {
      "cell_type": "code",
      "source": [
        "def calc_CFL(Q):\n",
        "  rho, rhou, e = Q[:,0], Q[:,1], Q[:,2]\n",
        "\n",
        "  u = rhou / rho\n",
        "  p = (gamma - 1.0) * (e - 0.5 * rho * u **2)\n",
        "\n",
        "  c = np.sqrt(gamma * p / rho)\n",
        "  sp = c + np.abs(u)\n",
        "  return max(sp) * dtdx"
      ],
      "metadata": {
        "id": "0-ZQQatVNwRa"
      },
      "execution_count": 10,
      "outputs": []
    },
    {
      "cell_type": "code",
      "source": [
        "def Roe_flux(QL, QR, E):\n",
        "  for j in range(jmax - 1):\n",
        "    rhoL, uL, pL = QL[    j,0], QL[    j,1], QL[    j,2]\n",
        "    rhoR, uR, pR = QR[j + 1,0], QR[j + 1,1], QR[j + 1,2]\n",
        "\n",
        "    rhouL = rhoL * uL\n",
        "    rhouR = rhoR * uR\n",
        "\n",
        "    eL = pL / (gamma - 1.0) + 0.5 * rhoL * uL ** 2\n",
        "    eR = pR / (gamma - 1.0) + 0.5 * rhoR * uR ** 2\n",
        "\n",
        "    HL = (eL + pL) / rhoL\n",
        "    HR = (eR + pR) / rhoR\n",
        "\n",
        "    cL = np.sqrt((gamma - 1.0) * (HL - 0.5 * uL ** 2))\n",
        "    cR = np.sqrt((gamma - 1.0) * (HR - 0.5 * uR ** 2))\n",
        "\n",
        "    #Roe平均 式(6.36)\n",
        "    sqrhoL = np.sqrt(rhoL)\n",
        "    sqrhoR = np.sqrt(rhoR)\n",
        "\n",
        "    rhoAVE = sqrhoL * sqrhoR\n",
        "    uAVE = (sqrhoL * uL + sqrhoR * uR) / (sqrhoL + sqrhoR)\n",
        "    HAVE = (sqrhoL * HL + sqrhoR * HR) / (sqrhoL + sqrhoR)\n",
        "    cAVE = np.sqrt((gamma - 1.0)* (HAVE - 0.5 * uAVE ** 2))\n",
        "    eAVE = rhoAVE * (HAVE - cAVE **2 / gamma)\n",
        "\n",
        "    dQ = np.array([rhoR - rhoL, rhoR * uR - rhoL * uL, eR - eL])\n",
        "\n",
        "    Lambda = np.diag([np.abs(uAVE - cAVE),\n",
        "                                          np.abs(uAVE),\n",
        "                                                      np.abs(uAVE + cAVE)])\n",
        "    \n",
        "    b1 = 0.5 *(gamma - 1.0) * uAVE ** 2 / cAVE ** 2\n",
        "    b2 = (gamma - 1.0) /cAVE ** 2\n",
        "\n",
        "    R = np.array([[1.0, 1.0, 1.0],\n",
        "                  [uAVE - cAVE, uAVE, uAVE + cAVE],\n",
        "                  [HAVE - uAVE * cAVE, 0.5 * uAVE ** 2, HAVE + uAVE * cAVE]])\n",
        "    \n",
        "    Rinv = np.array([[0.5 * (b1 + uAVE / cAVE), -0.5 * (b2 * uAVE + cAVE), 0.5 * b2],\n",
        "                     [1.0 - b1, b2 * uAVE, -b2],\n",
        "                     [0.5 * (b1 - uAVE / cAVE), -0.5 * (b2 * uAVE - cAVE), 0.5 * b2]])\n",
        "    \n",
        "    AQ = R @ Lambda @ Rinv @ dQ\n",
        "\n",
        "    EL = np.array([rhoL * uL, pL + rhouL * uL, (eL + pL ) * uL])\n",
        "    ER = np.array([rhoR * uR, pR + rhouR* uR, (eR + pR ) * uR])\n",
        "\n",
        "    E[j] = 0.5 * (ER + EL - AQ) #式(6.43)"
      ],
      "metadata": {
        "id": "UiZ1wfGzO7BS"
      },
      "execution_count": 11,
      "outputs": []
    },
    {
      "cell_type": "code",
      "source": [
        "def minmod(x, y):\n",
        "  sgn = np.sign(x)\n",
        "  return sgn * np.maximum(np.minimum(np.abs(x), sgn * y), 0.0)\n",
        "  "
      ],
      "metadata": {
        "id": "0Q59JRxKI4OV"
      },
      "execution_count": 12,
      "outputs": []
    },
    {
      "cell_type": "code",
      "source": [
        "def MUSCL(Q, order, kappa ):\n",
        "  rho, rhou, e = Q[: 0], Q[:, 1], Q[:, 2]\n",
        "  Q[:, 1] = rhou / rho #u\n",
        "  Q[:, 2] = (gamma - 1.0 ) * (e - 0.5 * rho * Q[:,1] **2) #p\n",
        "  \n",
        "  if order == 2 or order == 3:\n",
        "    # 2nd / 3rd & minmod limitter\n",
        "    dQ = np.zeros([jmax, 3])\n",
        "    for j in range (1, jmax - 1):\n",
        "      Dp[j] = minmod(dQ[j] , b * dQ[j - 1])#式(2.73a)\n",
        "      Dm[j] = minmod(dQ[j - 1] , b * dQ[j])#式(2.73b)\n",
        "    Dp[0] = Dp[1]\n",
        "    Dm[0] = Dm[1]\n",
        "\n",
        "    QL = Q.copy()\n",
        "    QR = Q.copy()\n",
        "\n",
        "    for j in range (1, jmax - 1):\n",
        "      QL[j] += 0.25 * ((1.0 - kappa) + Dp[j] + (1.0 + kappa)) * Dm[j]\n",
        "      QL[j] -= 0.25 * ((1.0 + kappa) + Dp[j] + (1.0 - kappa)) * Dm[j]\n",
        "    \n",
        "    else:\n",
        "      #1st order\n",
        "      QL = Q.copy\n",
        "      QR = Q.copy\n",
        "    \n",
        "    return QL , QR\n",
        "    \n",
        "\n",
        "  "
      ],
      "metadata": {
        "id": "zgFQnd98tZCY"
      },
      "execution_count": 13,
      "outputs": []
    },
    {
      "cell_type": "code",
      "source": [
        "def Roe_FDS(Q, order, kappa, nmax, print_interval = 2):\n",
        "  E = np.zeros([jmax, 3])\n",
        "  for n in range(nmax):\n",
        "    if n % print_interval == 0:\n",
        "      print(f'n = {n : 4d} : CFL = {calc_CFL(Q) : .4f}')\n",
        "    \n",
        "    Qold = Q.copy\n",
        "    coefs = [0.5, 1.0]\n",
        "    for coef in coefs:\n",
        "      QL, QR = MUSCL(Qold, order, kappa)\n",
        "\n",
        "      Roe_flux(QL,QR, E)\n",
        "      for j in range(1, jmax - 1):\n",
        "        Qold[j] = Q[j] - coef * dtdx *(E[j] - E[j-1])\n",
        "        Qold[0] = Q[0]\n",
        "        Qold[-1]= Q[-1]\n",
        "\n",
        "      Q[:] = Qold[:]"
      ],
      "metadata": {
        "id": "Sf98fV_ruxf5"
      },
      "execution_count": 14,
      "outputs": []
    },
    {
      "cell_type": "code",
      "source": [
        "nmax = 100\n",
        "print_interval = 4\n",
        "\n",
        "order = 2\n",
        "#-1 = 2nd order fully upwind\n",
        "# 0  = 2nd order upwind bisaed\n",
        "# 1/3  = 3rd order upwind bisaed\n",
        "kappa = 0\n",
        "\n",
        "Q = init()\n",
        "Roe_FDS(Q, order, kappa, nmax, print_interval)"
      ],
      "metadata": {
        "id": "nmjqiHrKIY0T",
        "outputId": "bc5cb0f4-138e-4fb4-c1e7-6afbf05a23fb",
        "colab": {
          "base_uri": "https://localhost:8080/",
          "height": 353
        }
      },
      "execution_count": 15,
      "outputs": [
        {
          "output_type": "error",
          "ename": "UnboundLocalError",
          "evalue": "ignored",
          "traceback": [
            "\u001b[0;31m---------------------------------------------------------------------------\u001b[0m",
            "\u001b[0;31mUnboundLocalError\u001b[0m                         Traceback (most recent call last)",
            "\u001b[0;32m<ipython-input-15-0aba526b7c1a>\u001b[0m in \u001b[0;36m<module>\u001b[0;34m()\u001b[0m\n\u001b[1;32m      8\u001b[0m \u001b[0mkappa\u001b[0m \u001b[0;34m=\u001b[0m \u001b[0;36m0\u001b[0m\u001b[0;34m\u001b[0m\u001b[0;34m\u001b[0m\u001b[0m\n\u001b[1;32m      9\u001b[0m \u001b[0;34m\u001b[0m\u001b[0m\n\u001b[0;32m---> 10\u001b[0;31m \u001b[0mQ\u001b[0m \u001b[0;34m=\u001b[0m \u001b[0minit\u001b[0m\u001b[0;34m(\u001b[0m\u001b[0;34m)\u001b[0m\u001b[0;34m\u001b[0m\u001b[0;34m\u001b[0m\u001b[0m\n\u001b[0m\u001b[1;32m     11\u001b[0m \u001b[0mRoe_FDS\u001b[0m\u001b[0;34m(\u001b[0m\u001b[0mQ\u001b[0m\u001b[0;34m,\u001b[0m \u001b[0morder\u001b[0m\u001b[0;34m,\u001b[0m \u001b[0mkappa\u001b[0m\u001b[0;34m,\u001b[0m \u001b[0mnmax\u001b[0m\u001b[0;34m,\u001b[0m \u001b[0mprint_interval\u001b[0m\u001b[0;34m)\u001b[0m\u001b[0;34m\u001b[0m\u001b[0;34m\u001b[0m\u001b[0m\n",
            "\u001b[0;32m<ipython-input-9-49e0588bb2cf>\u001b[0m in \u001b[0;36minit\u001b[0;34m()\u001b[0m\n\u001b[1;32m      1\u001b[0m \u001b[0;32mdef\u001b[0m \u001b[0minit\u001b[0m\u001b[0;34m(\u001b[0m\u001b[0;34m)\u001b[0m\u001b[0;34m:\u001b[0m\u001b[0;34m\u001b[0m\u001b[0;34m\u001b[0m\u001b[0m\n\u001b[1;32m      2\u001b[0m   \u001b[0mQ\u001b[0m \u001b[0;34m=\u001b[0m \u001b[0mnp\u001b[0m\u001b[0;34m.\u001b[0m\u001b[0mzeros\u001b[0m\u001b[0;34m(\u001b[0m\u001b[0;34m[\u001b[0m\u001b[0mjmax\u001b[0m\u001b[0;34m,\u001b[0m \u001b[0;36m3\u001b[0m\u001b[0;34m]\u001b[0m\u001b[0;34m)\u001b[0m\u001b[0;34m\u001b[0m\u001b[0;34m\u001b[0m\u001b[0m\n\u001b[0;32m----> 3\u001b[0;31m   \u001b[0mQ\u001b[0m\u001b[0;34m[\u001b[0m\u001b[0mx\u001b[0m \u001b[0;34m<=\u001b[0m \u001b[0mxmid\u001b[0m\u001b[0;34m,\u001b[0m \u001b[0;36m0\u001b[0m\u001b[0;34m]\u001b[0m \u001b[0;34m=\u001b[0m \u001b[0mRHOI\u001b[0m\u001b[0;34m\u001b[0m\u001b[0;34m\u001b[0m\u001b[0m\n\u001b[0m\u001b[1;32m      4\u001b[0m   \u001b[0mQ\u001b[0m\u001b[0;34m[\u001b[0m\u001b[0mx\u001b[0m \u001b[0;34m<=\u001b[0m \u001b[0mxmid\u001b[0m\u001b[0;34m,\u001b[0m \u001b[0;36m1\u001b[0m\u001b[0;34m]\u001b[0m \u001b[0;34m=\u001b[0m \u001b[0mRHOI\u001b[0m \u001b[0;34m=\u001b[0m \u001b[0mUI\u001b[0m\u001b[0;34m\u001b[0m\u001b[0;34m\u001b[0m\u001b[0m\n\u001b[1;32m      5\u001b[0m   \u001b[0mQ\u001b[0m\u001b[0;34m[\u001b[0m\u001b[0mx\u001b[0m \u001b[0;34m<=\u001b[0m \u001b[0mxmid\u001b[0m\u001b[0;34m,\u001b[0m \u001b[0;36m2\u001b[0m\u001b[0;34m]\u001b[0m \u001b[0;34m=\u001b[0m \u001b[0;34m(\u001b[0m\u001b[0mPI\u001b[0m\u001b[0;34m/\u001b[0m \u001b[0;34m(\u001b[0m\u001b[0mgamma\u001b[0m \u001b[0;34m-\u001b[0m\u001b[0;36m1.0\u001b[0m\u001b[0;34m)\u001b[0m \u001b[0;34m+\u001b[0m \u001b[0;36m0.5\u001b[0m \u001b[0;34m*\u001b[0m \u001b[0mRHOI\u001b[0m \u001b[0;34m*\u001b[0m\u001b[0mUI\u001b[0m \u001b[0;34m**\u001b[0m\u001b[0;36m2\u001b[0m\u001b[0;34m)\u001b[0m\u001b[0;34m\u001b[0m\u001b[0;34m\u001b[0m\u001b[0m\n",
            "\u001b[0;31mUnboundLocalError\u001b[0m: local variable 'RHOI' referenced before assignment"
          ]
        }
      ]
    }
  ]
}